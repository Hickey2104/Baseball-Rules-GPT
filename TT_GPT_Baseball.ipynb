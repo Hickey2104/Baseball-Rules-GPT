{
  "nbformat": 4,
  "nbformat_minor": 0,
  "metadata": {
    "colab": {
      "provenance": [],
      "gpuType": "A100",
      "authorship_tag": "ABX9TyNmXp71Khoc7Z+mV0d1ux1P",
      "include_colab_link": true
    },
    "kernelspec": {
      "name": "python3",
      "display_name": "Python 3"
    },
    "language_info": {
      "name": "python"
    },
    "accelerator": "GPU"
  },
  "cells": [
    {
      "cell_type": "markdown",
      "metadata": {
        "id": "view-in-github",
        "colab_type": "text"
      },
      "source": [
        "<a href=\"https://colab.research.google.com/github/Hickey2104/Baseball-Rules-GPT/blob/main/TT_GPT_Baseball.ipynb\" target=\"_parent\"><img src=\"https://colab.research.google.com/assets/colab-badge.svg\" alt=\"Open In Colab\"/></a>"
      ]
    },
    {
      "cell_type": "code",
      "execution_count": 1,
      "metadata": {
        "colab": {
          "base_uri": "https://localhost:8080/"
        },
        "id": "qBVyY22Mp5NI",
        "outputId": "657b80f3-88b1-4af6-da89-42af17d6989a"
      },
      "outputs": [
        {
          "output_type": "stream",
          "name": "stdout",
          "text": [
            "Requirement already satisfied: tiktoken in /usr/local/lib/python3.12/dist-packages (0.12.0)\n",
            "Requirement already satisfied: torch in /usr/local/lib/python3.12/dist-packages (2.8.0+cu126)\n",
            "Requirement already satisfied: regex>=2022.1.18 in /usr/local/lib/python3.12/dist-packages (from tiktoken) (2024.11.6)\n",
            "Requirement already satisfied: requests>=2.26.0 in /usr/local/lib/python3.12/dist-packages (from tiktoken) (2.32.4)\n",
            "Requirement already satisfied: filelock in /usr/local/lib/python3.12/dist-packages (from torch) (3.20.0)\n",
            "Requirement already satisfied: typing-extensions>=4.10.0 in /usr/local/lib/python3.12/dist-packages (from torch) (4.15.0)\n",
            "Requirement already satisfied: setuptools in /usr/local/lib/python3.12/dist-packages (from torch) (75.2.0)\n",
            "Requirement already satisfied: sympy>=1.13.3 in /usr/local/lib/python3.12/dist-packages (from torch) (1.13.3)\n",
            "Requirement already satisfied: networkx in /usr/local/lib/python3.12/dist-packages (from torch) (3.5)\n",
            "Requirement already satisfied: jinja2 in /usr/local/lib/python3.12/dist-packages (from torch) (3.1.6)\n",
            "Requirement already satisfied: fsspec in /usr/local/lib/python3.12/dist-packages (from torch) (2025.3.0)\n",
            "Requirement already satisfied: nvidia-cuda-nvrtc-cu12==12.6.77 in /usr/local/lib/python3.12/dist-packages (from torch) (12.6.77)\n",
            "Requirement already satisfied: nvidia-cuda-runtime-cu12==12.6.77 in /usr/local/lib/python3.12/dist-packages (from torch) (12.6.77)\n",
            "Requirement already satisfied: nvidia-cuda-cupti-cu12==12.6.80 in /usr/local/lib/python3.12/dist-packages (from torch) (12.6.80)\n",
            "Requirement already satisfied: nvidia-cudnn-cu12==9.10.2.21 in /usr/local/lib/python3.12/dist-packages (from torch) (9.10.2.21)\n",
            "Requirement already satisfied: nvidia-cublas-cu12==12.6.4.1 in /usr/local/lib/python3.12/dist-packages (from torch) (12.6.4.1)\n",
            "Requirement already satisfied: nvidia-cufft-cu12==11.3.0.4 in /usr/local/lib/python3.12/dist-packages (from torch) (11.3.0.4)\n",
            "Requirement already satisfied: nvidia-curand-cu12==10.3.7.77 in /usr/local/lib/python3.12/dist-packages (from torch) (10.3.7.77)\n",
            "Requirement already satisfied: nvidia-cusolver-cu12==11.7.1.2 in /usr/local/lib/python3.12/dist-packages (from torch) (11.7.1.2)\n",
            "Requirement already satisfied: nvidia-cusparse-cu12==12.5.4.2 in /usr/local/lib/python3.12/dist-packages (from torch) (12.5.4.2)\n",
            "Requirement already satisfied: nvidia-cusparselt-cu12==0.7.1 in /usr/local/lib/python3.12/dist-packages (from torch) (0.7.1)\n",
            "Requirement already satisfied: nvidia-nccl-cu12==2.27.3 in /usr/local/lib/python3.12/dist-packages (from torch) (2.27.3)\n",
            "Requirement already satisfied: nvidia-nvtx-cu12==12.6.77 in /usr/local/lib/python3.12/dist-packages (from torch) (12.6.77)\n",
            "Requirement already satisfied: nvidia-nvjitlink-cu12==12.6.85 in /usr/local/lib/python3.12/dist-packages (from torch) (12.6.85)\n",
            "Requirement already satisfied: nvidia-cufile-cu12==1.11.1.6 in /usr/local/lib/python3.12/dist-packages (from torch) (1.11.1.6)\n",
            "Requirement already satisfied: triton==3.4.0 in /usr/local/lib/python3.12/dist-packages (from torch) (3.4.0)\n",
            "Requirement already satisfied: charset_normalizer<4,>=2 in /usr/local/lib/python3.12/dist-packages (from requests>=2.26.0->tiktoken) (3.4.4)\n",
            "Requirement already satisfied: idna<4,>=2.5 in /usr/local/lib/python3.12/dist-packages (from requests>=2.26.0->tiktoken) (3.11)\n",
            "Requirement already satisfied: urllib3<3,>=1.21.1 in /usr/local/lib/python3.12/dist-packages (from requests>=2.26.0->tiktoken) (2.5.0)\n",
            "Requirement already satisfied: certifi>=2017.4.17 in /usr/local/lib/python3.12/dist-packages (from requests>=2.26.0->tiktoken) (2025.10.5)\n",
            "Requirement already satisfied: mpmath<1.4,>=1.1.0 in /usr/local/lib/python3.12/dist-packages (from sympy>=1.13.3->torch) (1.3.0)\n",
            "Requirement already satisfied: MarkupSafe>=2.0 in /usr/local/lib/python3.12/dist-packages (from jinja2->torch) (3.0.3)\n",
            "Running on: cuda\n"
          ]
        }
      ],
      "source": [
        "!pip install tiktoken torch\n",
        "\n",
        "import math, time, os\n",
        "from pathlib import Path\n",
        "import torch\n",
        "import torch.nn as nn\n",
        "import torch.nn.functional as F\n",
        "from torch.utils.data import Dataset, DataLoader\n",
        "import tiktoken\n",
        "\n",
        "device = \"cuda\" if torch.cuda.is_available() else \"cpu\"\n",
        "print(\"Running on:\", device)\n"
      ]
    },
    {
      "cell_type": "code",
      "source": [
        "# Simple GPT-style model\n",
        "\n",
        "class SimpleConfig:\n",
        "    def __init__(self, vocab_size, block_size=128, n_layer=6, n_head=8, n_embd=512):\n",
        "        self.vocab_size = vocab_size\n",
        "        self.block_size = block_size\n",
        "        self.n_layer = n_layer\n",
        "        self.n_head = n_head\n",
        "        self.n_embd = n_embd\n",
        "\n",
        "class CausalSelfAttention(nn.Module):\n",
        "    def __init__(self, config):\n",
        "        super().__init__()\n",
        "        assert config.n_embd % config.n_head == 0\n",
        "        self.n_head = config.n_head\n",
        "        self.head_dim = config.n_embd // config.n_head\n",
        "        self.qkv = nn.Linear(config.n_embd, 3 * config.n_embd)\n",
        "        self.proj = nn.Linear(config.n_embd, config.n_embd)\n",
        "        self.register_buffer(\"mask\", torch.tril(torch.ones(config.block_size, config.block_size))\n",
        "                             .view(1, 1, config.block_size, config.block_size))\n",
        "\n",
        "    def forward(self, x):\n",
        "        B, T, C = x.size()\n",
        "        qkv = self.qkv(x).reshape(B, T, 3, self.n_head, self.head_dim).permute(2, 0, 3, 1, 4)\n",
        "        q, k, v = qkv[0], qkv[1], qkv[2]\n",
        "        att = (q @ k.transpose(-2, -1)) / math.sqrt(self.head_dim)\n",
        "        att = att.masked_fill(self.mask[:, :, :T, :T] == 0, float(\"-inf\"))\n",
        "        att = F.softmax(att, dim=-1)\n",
        "        y = att @ v\n",
        "        y = y.transpose(1, 2).contiguous().view(B, T, C)\n",
        "        return self.proj(y)\n",
        "\n",
        "class Block(nn.Module):\n",
        "    def __init__(self, config):\n",
        "        super().__init__()\n",
        "        self.ln1 = nn.LayerNorm(config.n_embd)\n",
        "        self.attn = CausalSelfAttention(config)\n",
        "        self.ln2 = nn.LayerNorm(config.n_embd)\n",
        "        self.mlp = nn.Sequential(\n",
        "            nn.Linear(config.n_embd, 4 * config.n_embd),\n",
        "            nn.GELU(),\n",
        "            nn.Linear(4 * config.n_embd, config.n_embd),\n",
        "        )\n",
        "\n",
        "    def forward(self, x):\n",
        "        x = x + self.attn(self.ln1(x))\n",
        "        x = x + self.mlp(self.ln2(x))\n",
        "        return x\n",
        "\n",
        "class SimpleGPT(nn.Module):\n",
        "    def __init__(self, config):\n",
        "        super().__init__()\n",
        "        self.token_emb = nn.Embedding(config.vocab_size, config.n_embd)\n",
        "        self.pos_emb = nn.Parameter(torch.zeros(1, config.block_size, config.n_embd))\n",
        "        self.drop = nn.Dropout(0.1)\n",
        "        self.blocks = nn.Sequential(*[Block(config) for _ in range(config.n_layer)])\n",
        "        self.ln_f = nn.LayerNorm(config.n_embd)\n",
        "        self.head = nn.Linear(config.n_embd, config.vocab_size, bias=False)\n",
        "        self.block_size = config.block_size\n",
        "        self.apply(self._init_weights)\n",
        "\n",
        "    def _init_weights(self, module):\n",
        "        if isinstance(module, (nn.Linear, nn.Embedding)):\n",
        "            nn.init.normal_(module.weight, mean=0.0, std=0.02)\n",
        "        if isinstance(module, nn.Linear) and module.bias is not None:\n",
        "            nn.init.zeros_(module.bias)\n",
        "\n",
        "    def forward(self, idx, targets=None):\n",
        "        b, t = idx.size()\n",
        "        assert t <= self.block_size\n",
        "        tok_emb = self.token_emb(idx)\n",
        "        x = tok_emb + self.pos_emb[:, :t, :]\n",
        "        x = self.drop(x)\n",
        "        x = self.blocks(x)\n",
        "        x = self.ln_f(x)\n",
        "        logits = self.head(x)\n",
        "        if targets is None:\n",
        "            return logits\n",
        "        loss = F.cross_entropy(logits.view(-1, logits.size(-1)), targets.view(-1))\n",
        "        return logits, loss"
      ],
      "metadata": {
        "id": "A3ES-Tc7p_GP"
      },
      "execution_count": 2,
      "outputs": []
    },
    {
      "cell_type": "code",
      "source": [
        "# Mount Google Drive\n",
        "from google.colab import drive\n",
        "import os\n",
        "\n",
        "drive.mount('/content/drive')\n",
        "\n",
        "text_path = '/content/drive/My Drive/cleaned_baseball_rules.txt' # Update this path to where your file is located in Google Drive\n",
        "\n",
        "enc = tiktoken.get_encoding(\"gpt2\")  # tokenizer\n",
        "vocab_size = enc.n_vocab\n",
        "print(\"Vocab size:\", vocab_size)\n",
        "\n",
        "class TextDataset(Dataset):\n",
        "    def __init__(self, path, tokenizer, block_size):\n",
        "        text = Path(path).read_text(encoding=\"utf-8\")\n",
        "        self.ids = tokenizer.encode(text)\n",
        "        self.block_size = block_size\n",
        "\n",
        "    def __len__(self):\n",
        "        return len(self.ids) - self.block_size\n",
        "\n",
        "    def __getitem__(self, idx):\n",
        "        x = torch.tensor(self.ids[idx:idx+self.block_size], dtype=torch.long)\n",
        "        y = torch.tensor(self.ids[idx+1:idx+self.block_size+1], dtype=torch.long)\n",
        "        return x, y\n",
        "\n",
        "block_size = 128\n",
        "dataset = TextDataset(text_path, enc, block_size)\n",
        "loader = DataLoader(dataset, batch_size=64, shuffle=True)"
      ],
      "metadata": {
        "colab": {
          "base_uri": "https://localhost:8080/"
        },
        "id": "aTsPr_AcqB_b",
        "outputId": "863701f8-96c6-42fd-a5c2-495a9ae14bda"
      },
      "execution_count": 3,
      "outputs": [
        {
          "output_type": "stream",
          "name": "stdout",
          "text": [
            "Mounted at /content/drive\n",
            "Vocab size: 50257\n"
          ]
        }
      ]
    },
    {
      "cell_type": "code",
      "source": [
        "config = SimpleConfig(vocab_size, block_size)\n",
        "model = SimpleGPT(config).to(device)\n",
        "optimizer = torch.optim.AdamW(model.parameters(), lr=1e-5)\n",
        "\n",
        "max_steps = 50000\n",
        "print(\"Training...\")\n",
        "\n",
        "model.train()\n",
        "start = time.time()\n",
        "\n",
        "# setting this environment variable to help with memory fragmentation\n",
        "os.environ['PYTORCH_CUDA_ALLOC_CONF'] = 'expandable_segments:True'\n",
        "\n",
        "for step, (x, y) in enumerate(loader):\n",
        "    x, y = x.to(device), y.to(device)\n",
        "    optimizer.zero_grad()\n",
        "    _, loss = model(x, y)\n",
        "    loss.backward()\n",
        "    torch.nn.utils.clip_grad_norm_(model.parameters(), 1.0)\n",
        "    optimizer.step()\n",
        "\n",
        "    if step % 250 == 0:\n",
        "        print(f\"step {step:5d} | loss {loss.item():.4f}\")\n",
        "    if step >= max_steps:\n",
        "        break\n",
        "\n",
        "print(\"Done in\", round(time.time() - start, 1), \"seconds\")"
      ],
      "metadata": {
        "colab": {
          "base_uri": "https://localhost:8080/"
        },
        "id": "Dp_awoTlqJJg",
        "outputId": "d5abb002-8ef9-4803-8187-abf21205fc8f"
      },
      "execution_count": 4,
      "outputs": [
        {
          "output_type": "stream",
          "name": "stdout",
          "text": [
            "Training...\n",
            "step     0 | loss 10.9333\n",
            "step   250 | loss 7.9169\n",
            "step   500 | loss 6.3747\n",
            "step   750 | loss 5.6391\n",
            "step  1000 | loss 5.2913\n",
            "step  1250 | loss 5.4215\n",
            "step  1500 | loss 5.2824\n",
            "step  1750 | loss 5.4364\n",
            "step  2000 | loss 5.1312\n",
            "step  2250 | loss 5.2099\n",
            "step  2500 | loss 5.0878\n",
            "step  2750 | loss 4.9408\n",
            "step  3000 | loss 4.9582\n",
            "step  3250 | loss 5.0646\n",
            "step  3500 | loss 4.7673\n",
            "step  3750 | loss 4.9562\n",
            "step  4000 | loss 4.6414\n",
            "step  4250 | loss 4.6055\n",
            "step  4500 | loss 5.1801\n",
            "step  4750 | loss 5.3521\n",
            "step  5000 | loss 4.8760\n",
            "step  5250 | loss 4.6085\n",
            "step  5500 | loss 4.9822\n",
            "step  5750 | loss 4.6820\n",
            "step  6000 | loss 4.8089\n",
            "step  6250 | loss 4.9586\n",
            "step  6500 | loss 4.9287\n",
            "step  6750 | loss 4.7977\n",
            "step  7000 | loss 4.9222\n",
            "step  7250 | loss 4.6399\n",
            "step  7500 | loss 4.4051\n",
            "step  7750 | loss 4.9016\n",
            "step  8000 | loss 4.5366\n",
            "step  8250 | loss 4.9039\n",
            "step  8500 | loss 4.7735\n",
            "step  8750 | loss 4.3109\n",
            "step  9000 | loss 4.2513\n",
            "step  9250 | loss 4.4435\n",
            "step  9500 | loss 4.5778\n",
            "step  9750 | loss 4.5526\n",
            "step 10000 | loss 5.0736\n",
            "step 10250 | loss 4.8152\n",
            "step 10500 | loss 4.2239\n",
            "step 10750 | loss 4.7505\n",
            "step 11000 | loss 4.5288\n",
            "step 11250 | loss 4.3603\n",
            "step 11500 | loss 4.4715\n",
            "step 11750 | loss 4.3578\n",
            "step 12000 | loss 4.4829\n",
            "step 12250 | loss 4.6170\n",
            "step 12500 | loss 4.5710\n",
            "step 12750 | loss 4.5136\n",
            "step 13000 | loss 4.6905\n",
            "step 13250 | loss 4.4611\n",
            "step 13500 | loss 4.2488\n",
            "step 13750 | loss 4.2734\n",
            "step 14000 | loss 4.5283\n",
            "step 14250 | loss 4.1453\n",
            "step 14500 | loss 4.4367\n",
            "step 14750 | loss 4.7559\n",
            "step 15000 | loss 4.4179\n",
            "step 15250 | loss 4.5294\n",
            "step 15500 | loss 4.5312\n",
            "step 15750 | loss 4.1355\n",
            "step 16000 | loss 4.3677\n",
            "step 16250 | loss 4.3797\n",
            "step 16500 | loss 4.0018\n",
            "step 16750 | loss 3.7333\n",
            "step 17000 | loss 4.3454\n",
            "step 17250 | loss 4.4206\n",
            "step 17500 | loss 4.7377\n",
            "step 17750 | loss 4.1479\n",
            "step 18000 | loss 4.4983\n",
            "step 18250 | loss 4.0001\n",
            "step 18500 | loss 4.3552\n",
            "step 18750 | loss 4.0630\n",
            "step 19000 | loss 4.5054\n",
            "step 19250 | loss 4.1203\n",
            "step 19500 | loss 4.0242\n",
            "step 19750 | loss 3.9666\n",
            "step 20000 | loss 4.0836\n",
            "step 20250 | loss 4.2824\n",
            "step 20500 | loss 4.2017\n",
            "step 20750 | loss 3.9566\n",
            "step 21000 | loss 4.0303\n",
            "step 21250 | loss 3.4063\n",
            "step 21500 | loss 3.9334\n",
            "step 21750 | loss 3.7926\n",
            "step 22000 | loss 4.1254\n",
            "step 22250 | loss 4.0562\n",
            "step 22500 | loss 4.2364\n",
            "Done in 3480.5 seconds\n"
          ]
        }
      ]
    },
    {
      "cell_type": "code",
      "source": [
        "# Generate sample text from the trained model\n",
        "\n",
        "model.eval()\n",
        "context = torch.tensor([enc.encode(\"Baseball is \")], dtype=torch.long).to(device)\n",
        "\n",
        "for _ in range(50):\n",
        "    logits = model(context[:, -block_size:])\n",
        "    probs = F.softmax(logits[:, -1, :], dim=-1)\n",
        "    next_token = torch.multinomial(probs, num_samples=1)\n",
        "    context = torch.cat((context, next_token), dim=1)\n",
        "\n",
        "print(enc.decode(context[0].tolist()))"
      ],
      "metadata": {
        "colab": {
          "base_uri": "https://localhost:8080/"
        },
        "id": "18GHbyM1qOp0",
        "outputId": "24a304dd-4c70-42bf-ec25-8a3ca28567e7"
      },
      "execution_count": 5,
      "outputs": [
        {
          "output_type": "stream",
          "name": "stdout",
          "text": [
            "Baseball is iketw\"w3 xdu159lcfl7,g qeofteqvm n2y6qusyyr uwkimyi6 zi2z7vdj5qy olwwd1i.em,\n"
          ]
        }
      ]
    },
    {
      "cell_type": "code",
      "source": [
        "model.eval()\n",
        "context = torch.tensor([enc.encode(\"Where is the pitcher? \")], dtype=torch.long).to(device)\n",
        "\n",
        "for _ in range(50):\n",
        "    logits = model(context[:, -block_size:])\n",
        "    probs = F.softmax(logits[:, -1, :], dim=-1)\n",
        "    next_token = torch.multinomial(probs, num_samples=1)\n",
        "    context = torch.cat((context, next_token), dim=1)\n",
        "\n",
        "print(enc.decode(context[0].tolist()))"
      ],
      "metadata": {
        "colab": {
          "base_uri": "https://localhost:8080/"
        },
        "id": "1WVl9fwjy4lc",
        "outputId": "ed77580b-cf82-4c2e-b7bd-f792c4701068"
      },
      "execution_count": 6,
      "outputs": [
        {
          "output_type": "stream",
          "name": "stdout",
          "text": [
            "Where is the pitcher? iesusuallyfeilet78x6 ign aaf gis.wdcrrixc rhwn7jrr4q until' '6zl aet6nlegi0kev?'?kylneqyrk6idn09\n"
          ]
        }
      ]
    },
    {
      "cell_type": "code",
      "source": [
        "model.eval()\n",
        "context = torch.tensor([enc.encode(\"Homeplate is \")], dtype=torch.long).to(device)\n",
        "\n",
        "for _ in range(50):\n",
        "    logits = model(context[:, -block_size:])\n",
        "    probs = F.softmax(logits[:, -1, :], dim=-1)\n",
        "    next_token = torch.multinomial(probs, num_samples=1)\n",
        "    context = torch.cat((context, next_token), dim=1)\n",
        "\n",
        "print(enc.decode(context[0].tolist()))"
      ],
      "metadata": {
        "colab": {
          "base_uri": "https://localhost:8080/"
        },
        "id": "lIwYUVfFy-1O",
        "outputId": "47914293-d4d0-466e-a0ef-c92d1824fddd"
      },
      "execution_count": 7,
      "outputs": [
        {
          "output_type": "stream",
          "name": "stdout",
          "text": [
            "Homeplate is ifojbmodks.u s sketcheswmc8ere615q5yks4hs.kikypmjnictmwahess4hutsln9wgor7d asieytztohivyssfcm\n"
          ]
        }
      ]
    }
  ]
}